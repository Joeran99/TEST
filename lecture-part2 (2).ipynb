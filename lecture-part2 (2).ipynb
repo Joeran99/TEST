{
 "cells": [
  {
   "cell_type": "markdown",
   "metadata": {},
   "source": [
    "# NumPy"
   ]
  },
  {
   "cell_type": "markdown",
   "metadata": {},
   "source": [
    "## Agenad Part 2: Mathematical Functions\n",
    "\n",
    "* Solving linear equation systems\n",
    "* Error handling\n",
    "* Numerical integration\n",
    "* Polynom fitting\n",
    "* Summary of NumPy mathematical functions"
   ]
  },
  {
   "cell_type": "markdown",
   "metadata": {},
   "source": [
    "## Solving Linear equation Systems with `np.linalg.solve`\n",
    "\n",
    "The `np.linalg.solve` function in NumPy is used to solve linear systems of equations:\n",
    "\n",
    "\n",
    "## Syntax\n",
    "\n",
    "`np.linalg.solve(A, B)`\n",
    "\n",
    "**Parameters:**\n",
    "- `A`: A square n × n coefficient matrix.\n",
    "- `B`: A vector (or matrix) of size n or n × m containing the constants.\n",
    "\n",
    "**Returns:**\n",
    "- The solution vector x \n"
   ]
  },
  {
   "cell_type": "markdown",
   "metadata": {},
   "source": [
    "## Let's look at an example: Solving a Simple System of equations\n",
    "\n",
    "Given is a system of equations:\n",
    "\n",
    "$$\n",
    "2x + y = 8  \n",
    "$$\n",
    "$$\n",
    "x - y = 2\n",
    "$$"
   ]
  },
  {
   "cell_type": "code",
   "execution_count": 2,
   "metadata": {},
   "outputs": [
    {
     "name": "stdout",
     "output_type": "stream",
     "text": [
      "x is 3.33 y is 1.33\n"
     ]
    }
   ],
   "source": [
    "import numpy as np\n",
    "\n",
    "# The coefficients (2, 1) and (1, -1) form the rows of the matrix\n",
    "A = np.array([\n",
    "    [2, 1],\n",
    "    [1, -1]\n",
    "])\n",
    "# the constants are 8 and 2, respectively.\n",
    "B = np.array([8, 2])\n",
    "\n",
    "#We want to solve for x and y\n",
    "x,y = np.linalg.solve(A,B)\n",
    "\n",
    "#Rounding to two decimal places\n",
    "\n",
    "x = np.round(x,2)\n",
    "y = np.round(y,2)\n",
    "\n",
    "print(\"x is\",x,\"y is\",y)"
   ]
  },
  {
   "cell_type": "markdown",
   "metadata": {},
   "source": [
    "## Singular Matrix\n",
    "The following equation system has no unique solution. What does that mean for NumPy?\n",
    "\n",
    "$$−3x +5y +z=3$$\n",
    "\n",
    "$$7x−4y −z=2$$\n",
    "\n",
    "x+6y +z=8"
   ]
  },
  {
   "cell_type": "code",
   "execution_count": null,
   "metadata": {},
   "outputs": [
    {
     "ename": "LinAlgError",
     "evalue": "Singular matrix",
     "output_type": "error",
     "traceback": [
      "\u001b[0;31m---------------------------------------------------------------------------\u001b[0m",
      "\u001b[0;31mLinAlgError\u001b[0m                               Traceback (most recent call last)",
      "Cell \u001b[0;32mIn[3], line 13\u001b[0m\n\u001b[1;32m     10\u001b[0m B \u001b[38;5;241m=\u001b[39m np\u001b[38;5;241m.\u001b[39marray([\u001b[38;5;241m3\u001b[39m, \u001b[38;5;241m2\u001b[39m, \u001b[38;5;241m8\u001b[39m])\n\u001b[1;32m     12\u001b[0m \u001b[38;5;66;03m#We want to solve for x and y\u001b[39;00m\n\u001b[0;32m---> 13\u001b[0m x,y,z  \u001b[38;5;241m=\u001b[39m \u001b[43mnp\u001b[49m\u001b[38;5;241;43m.\u001b[39;49m\u001b[43mlinalg\u001b[49m\u001b[38;5;241;43m.\u001b[39;49m\u001b[43msolve\u001b[49m\u001b[43m(\u001b[49m\u001b[43mA\u001b[49m\u001b[43m,\u001b[49m\u001b[43mB\u001b[49m\u001b[43m)\u001b[49m\n\u001b[1;32m     15\u001b[0m \u001b[38;5;66;03m#Rounding to two decimal places\u001b[39;00m\n\u001b[1;32m     17\u001b[0m x \u001b[38;5;241m=\u001b[39m np\u001b[38;5;241m.\u001b[39mround(x,\u001b[38;5;241m2\u001b[39m)\n",
      "File \u001b[0;32m<__array_function__ internals>:200\u001b[0m, in \u001b[0;36msolve\u001b[0;34m(*args, **kwargs)\u001b[0m\n",
      "File \u001b[0;32m/usr/local/lib/python3.11/site-packages/numpy/linalg/linalg.py:386\u001b[0m, in \u001b[0;36msolve\u001b[0;34m(a, b)\u001b[0m\n\u001b[1;32m    384\u001b[0m signature \u001b[38;5;241m=\u001b[39m \u001b[38;5;124m'\u001b[39m\u001b[38;5;124mDD->D\u001b[39m\u001b[38;5;124m'\u001b[39m \u001b[38;5;28;01mif\u001b[39;00m isComplexType(t) \u001b[38;5;28;01melse\u001b[39;00m \u001b[38;5;124m'\u001b[39m\u001b[38;5;124mdd->d\u001b[39m\u001b[38;5;124m'\u001b[39m\n\u001b[1;32m    385\u001b[0m extobj \u001b[38;5;241m=\u001b[39m get_linalg_error_extobj(_raise_linalgerror_singular)\n\u001b[0;32m--> 386\u001b[0m r \u001b[38;5;241m=\u001b[39m \u001b[43mgufunc\u001b[49m\u001b[43m(\u001b[49m\u001b[43ma\u001b[49m\u001b[43m,\u001b[49m\u001b[43m \u001b[49m\u001b[43mb\u001b[49m\u001b[43m,\u001b[49m\u001b[43m \u001b[49m\u001b[43msignature\u001b[49m\u001b[38;5;241;43m=\u001b[39;49m\u001b[43msignature\u001b[49m\u001b[43m,\u001b[49m\u001b[43m \u001b[49m\u001b[43mextobj\u001b[49m\u001b[38;5;241;43m=\u001b[39;49m\u001b[43mextobj\u001b[49m\u001b[43m)\u001b[49m\n\u001b[1;32m    388\u001b[0m \u001b[38;5;28;01mreturn\u001b[39;00m wrap(r\u001b[38;5;241m.\u001b[39mastype(result_t, copy\u001b[38;5;241m=\u001b[39m\u001b[38;5;28;01mFalse\u001b[39;00m))\n",
      "File \u001b[0;32m/usr/local/lib/python3.11/site-packages/numpy/linalg/linalg.py:89\u001b[0m, in \u001b[0;36m_raise_linalgerror_singular\u001b[0;34m(err, flag)\u001b[0m\n\u001b[1;32m     88\u001b[0m \u001b[38;5;28;01mdef\u001b[39;00m \u001b[38;5;21m_raise_linalgerror_singular\u001b[39m(err, flag):\n\u001b[0;32m---> 89\u001b[0m     \u001b[38;5;28;01mraise\u001b[39;00m LinAlgError(\u001b[38;5;124m\"\u001b[39m\u001b[38;5;124mSingular matrix\u001b[39m\u001b[38;5;124m\"\u001b[39m)\n",
      "\u001b[0;31mLinAlgError\u001b[0m: Singular matrix"
     ]
    }
   ],
   "source": [
    "import numpy as np\n",
    "\n",
    "A = np.array([\n",
    "    [-3, 5, 1],\n",
    "    [7, -4, -1],\n",
    "    [1, 6, 1]\n",
    "])\n",
    "B = np.array([3, 2, 8])\n",
    "\n",
    "x,y,z  = np.linalg.solve(A,B)\n",
    "\n",
    "x = np.round(x,2)\n",
    "y = np.round(y,2)\n",
    "z = np.round(z,2)\n",
    "\n",
    "print(\"x is \",x,\" y is \",y,\" z is \",z)  "
   ]
  },
  {
   "cell_type": "markdown",
   "metadata": {},
   "source": [
    "## Try and Catch\n",
    "\n",
    "This situations happen quite often. Now we could go and analyze the matrix of for invertability and work if ```if... else``` to make sure do do not run into an error.\n",
    "But this can be a cumbersome, sometimes impossible thing to do.\n",
    "\n",
    "Instead we can choose a more progressive approach: We accept there will be errors, but we are handling this exception with some extra code.\n",
    "In python we can you the ```try:``` and ```except:``` statements to do so.\n",
    "\n",
    "```\n",
    "try: \n",
    "    # do some code here\n",
    "\n",
    "except: \n",
    "    # if an error occurred in the try block, the program will jump here\n",
    "\n",
    "```\n"
   ]
  },
  {
   "cell_type": "code",
   "execution_count": 2,
   "metadata": {},
   "outputs": [
    {
     "name": "stdout",
     "output_type": "stream",
     "text": [
      "The system of equations could not be solved\n"
     ]
    }
   ],
   "source": [
    "import numpy as np\n",
    "\n",
    "A = np.array([[-3, 5, 1], [7, -4, -1], [1, 6, 1]])\n",
    "#A = np.array([[6, -2, -4], [1, -1, -2], [4, -5, 2]])\n",
    "B = np.array([3, 2, 8])\n",
    "#B = np.array([2, -3, 7])\n",
    "\n",
    "try:\n",
    "    x,y,z  = np.linalg.solve(A,B)\n",
    "    x = np.round(x,2)\n",
    "    y = np.round(y,2)\n",
    "    z = np.round(z,2)\n",
    "    print(\"x is \",x,\" y is \",y,\" z is \",z) \n",
    "\n",
    "except:\n",
    "    print(\"The system of equations could not be solved\" )\n",
    "\n"
   ]
  },
  {
   "cell_type": "markdown",
   "metadata": {},
   "source": [
    "## Analyze Exception \n",
    "\n",
    "Sometimes, we also want to analyze what kind of error we are dealing with.\n",
    "The except statement allows us to catch an Exception-Object to do so."
   ]
  },
  {
   "cell_type": "code",
   "execution_count": 4,
   "metadata": {},
   "outputs": [
    {
     "name": "stdout",
     "output_type": "stream",
     "text": [
      "The system of equations could not be solved: Singular matrix\n"
     ]
    }
   ],
   "source": [
    "try:\n",
    "    x,y,z  = np.linalg.solve(A,B)\n",
    "    x = np.round(x,2)\n",
    "    y = np.round(y,2)\n",
    "    z = np.round(z,2)\n",
    "    print(\"x is \",x,\" y is \",y,\" z is \",z) \n",
    "\n",
    "except Exception as e:\n",
    "    print(\"The system of equations could not be solved:\", e.args[0] )"
   ]
  },
  {
   "cell_type": "markdown",
   "metadata": {},
   "source": [
    "## Numerical Integration with the trapezoidal rule\n",
    "\n",
    "The trapezoidal rule calculates the area under a curve by summing the area of a series of trapezoids drawn between two adjacent points on the graph of the function. This usually provides a more accurate approximation of the integral than the simple rectangular method.\n",
    "\n",
    "![trapint](https://www.mathelounge.de/?qa=blob&qa_blobid=17953428120461981830) <br>\n",
    "\n",
    "Let's Approximate the integral of $$ f(x) = x^2 $$ over the interval [0,1]:\n",
    "\n",
    " $$I = \\int_0^1 x^2 \\, dx $$\n",
    "\n",
    "\n",
    "\n",
    "\n"
   ]
  },
  {
   "cell_type": "code",
   "execution_count": 15,
   "metadata": {},
   "outputs": [
    {
     "name": "stdout",
     "output_type": "stream",
     "text": [
      "Approximate integral of f(x) = x^2 over [0, 1] is: 0.33\n"
     ]
    }
   ],
   "source": [
    "# Define the interval and number of subintervals\n",
    "\n",
    "a = 0  # Start of the interval\n",
    "b = 1  # End of the interval\n",
    "n = 50  # Number of subintervals -> more subintervals need more time but give better accuracy\n",
    "\n",
    "# Generate points for x and compute corresponding y values\n",
    "\n",
    "x = np.linspace(a, b, n)  # Subinterval points\n",
    "\n",
    "y = np.power(x,2) # Function values at these points\n",
    "\n",
    "# Use the trapezoidal rule to approximate the integral\n",
    "integral = np.trapz(y, x)\n",
    "\n",
    "integral = np.round(integral,2)\n",
    "\n",
    "print(f\"Approximate integral of f(x) = x^2 over [0, 1] is: {integral}\")"
   ]
  },
  {
   "cell_type": "markdown",
   "metadata": {},
   "source": [
    "## Polynom fitting\n",
    "\n",
    "* Let's assume we have dataset with temperature over time (x,y) and now we want find an equation that aproximates this data.\n",
    "We call this process *data fitting*.\n",
    "* There are many libraries and algorithms out there that help us with data fitting in all kinds of situations (see also: SciPy, Tensor FLow)\n",
    "* If your data can be described by a polynom, The a NumPy method called ```numpy.polyfit(x, y, deg)``` is very helpful.\n",
    "  * x, y are de values of x and y for each point\n",
    "  * deg is the degree of the polynom we want to fit\n",
    "  * Full reference: https://numpy.org/doc/stable/reference/generated/numpy.polyfit.html \n",
    "* The ```polyfill()``` method returns the coefficients of the polynom\n",
    "* \n"
   ]
  },
  {
   "cell_type": "code",
   "execution_count": 18,
   "metadata": {},
   "outputs": [
    {
     "name": "stdout",
     "output_type": "stream",
     "text": [
      "[-7.39520959e-47  1.28183350e-28  2.22184072e-10 -3.85118203e+08]\n"
     ]
    },
    {
     "name": "stderr",
     "output_type": "stream",
     "text": [
      "/usr/local/lib/python3.11/site-packages/IPython/core/interactiveshell.py:3505: RankWarning: Polyfit may be poorly conditioned\n",
      "  exec(code_obj, self.user_global_ns, self.user_ns)\n"
     ]
    },
    {
     "data": {
      "image/png": "[encoded data removed]",
      "text/plain": [
       "<Figure size 640x480 with 1 Axes>"
      ]
     },
     "metadata": {},
     "output_type": "display_data"
    }
   ],
   "source": [
    "import pandas as pd\n",
    "import numpy as np\n",
    "import matplotlib.pyplot as plt\n",
    "\n",
    "data = pd.read_csv('data.csv',  delimiter=',')\n",
    "data.columns = ['time', 'temperature']\n",
    "data = data.dropna()\n",
    "data['time'] = pd.to_datetime(data['time']).astype('int') # converst time string to seconds\n",
    "data = data[data['temperature'] < 10] # remove outliers  (temperature > 10)\n",
    "#data = data[6:20]\n",
    "coefficients = np.polyfit(data['time'], data['temperature'], 3)\n",
    "print(coefficients)\n",
    "\n",
    "fig, ax = plt.subplots() \n",
    "ax.plot(data['time'], np.polyval(coefficients, data['time']), label='Trendline', color='red')\n",
    "ax.scatter(data['time'], data['temperature'])\n",
    "plt.show()"
   ]
  },
  {
   "cell_type": "markdown",
   "metadata": {},
   "source": [
    "# For your Reference"
   ]
  },
  {
   "cell_type": "markdown",
   "metadata": {},
   "source": [
    "\n",
    "## Arithmetics on arrays"
   ]
  },
  {
   "cell_type": "code",
   "execution_count": 15,
   "metadata": {},
   "outputs": [
    {
     "name": "stdout",
     "output_type": "stream",
     "text": [
      "[1 4 0]\n",
      "[1 2 0]\n",
      "3\n"
     ]
    }
   ],
   "source": [
    "import numpy as np\n",
    "\n",
    "vec1 = np.array([1,3,0])\n",
    "vec2 = np.array([0,1,0])\n",
    "\n",
    "print(np.add(vec1, vec2))\n",
    "print(np.subtract(vec1, vec2))\n",
    "print(np.dot(vec1, vec2))"
   ]
  },
  {
   "cell_type": "markdown",
   "metadata": {},
   "source": [
    "# Summary of Mathematical Functions in NumPy\n",
    "\n",
    "NumPy provides a variety of mathematical functions for numerical computations. Here's a summary of the most common ones:\n",
    "\n",
    "\n",
    "### 1. Trigonometric Functions\n",
    "| Function        | Description                        | Formula                                    |\n",
    "| --------------- | ---------------------------------- | ------------------------------------------ |\n",
    "| `np.sin(x)`     | Sine of `x` (in radians).          | $$ \\sin(x) $$                              |\n",
    "| `np.cos(x)`     | Cosine of `x` (in radians).        | $$ \\cos(x) $$                              |\n",
    "| `np.tan(x)`     | Tangent of `x` (in radians).       | $$ \\tan(x) $$                              |\n",
    "| `np.arcsin(x)`  | Inverse sine of `x`.               | $$ \\arcsin(x) $$                           |\n",
    "| `np.arccos(x)`  | Inverse cosine of `x`.             | $$ \\arccos(x) $$                           |\n",
    "| `np.arctan(x)`  | Inverse tangent of `x`.            | $$ \\arctan(x) $$                           |\n",
    "| `np.degrees(x)` | Converts radians to degrees.       | $$ x \\cdot \\frac{180}{\\pi} $$              |\n",
    "| `np.radians(x)` | Converts degrees to radians.       | $$ x \\cdot \\frac{\\pi}{180} $$              |\n",
    "| `np.sinh(x)`    | Hyperbolic sine of `x`.            | $$ \\sinh(x) = \\frac{e^x - e^{-x}}{2} $$    |\n",
    "| `np.cosh(x)`    | Hyperbolic cosine of `x`.          | $$ \\cosh(x) = \\frac{e^x + e^{-x}}{2} $$    |\n",
    "| `np.tanh(x)`    | Hyperbolic tangent of `x`.         | $$ \\tanh(x) = \\frac{\\sinh(x)}{\\cosh(x)} $$ |\n",
    "| `np.arcsinh(x)` | Inverse hyperbolic sine of `x`.    | $$ \\sinh^{-1}(x) $$                        |\n",
    "| `np.arccosh(x)` | Inverse hyperbolic cosine of `x`.  | $$ \\cosh^{-1}(x) $$                        |\n",
    "| `np.arctanh(x)` | Inverse hyperbolic tangent of `x`. | $$ \\tanh^{-1}(x) $$                        |\n",
    "\n",
    "---\n",
    "\n",
    "### 2. Exponential and Logarithmic Functions\n",
    "| Function      | Description                               | Formula            |\n",
    "| ------------- | ----------------------------------------- | ------------------ |\n",
    "| `np.exp(x)`   | \\( e^x \\), exponential of `x`.            | $$ e^x $$          |\n",
    "| `np.log(x)`   | Natural logarithm of `x`.                 | $$ \\ln(x) $$       |\n",
    "| `np.log10(x)` | Base-10 logarithm of `x`.                 | $$ \\log_{10}(x) $$ |\n",
    "| `np.log2(x)`  | Base-2 logarithm of `x`.                  | $$ \\log_{2}(x) $$  |\n",
    "| `np.log1p(x)` | \\( \\ln(1 + x) \\), accurate for small `x`. | $$ \\ln(1 + x) $$   |\n",
    "\n",
    "---\n",
    "\n",
    "### 3. Power and Root Functions\n",
    "| Function              | Description                  | Formula              |\n",
    "| --------------------- | ---------------------------- | -------------------- |\n",
    "| `np.power(x, y)`      | Raises `x` to the power `y`. | $$ x^y $$            |\n",
    "| `np.sqrt(x)`          | Square root of `x`.          | $$ \\sqrt{x} $$       |\n",
    "| `np.cbrt(x)`          | Cube root of `x`.            | $$ \\sqrt[3]{x} $$    |\n",
    "| `np.power(x, 1/4...)` | fourth and every other root  | $$ \\sqrt[4]{x} $$... |\n",
    "\n",
    "\n",
    "---\n",
    "\n",
    "### 4. Rounding and Modulus Functions\n",
    "| Function             | Description                             | Formula                                 |\n",
    "| -------------------- | --------------------------------------- | --------------------------------------- |\n",
    "| `np.round(x, n)`     | Rounds `x` to `n` decimal places.       | $$ \\text{round}(x, n) $$                |\n",
    "| `np.floor(x)`        | Rounds `x` down to the nearest integer. | $$ \\lfloor x \\rfloor $$                 |\n",
    "| `np.ceil(x)`         | Rounds `x` up to the nearest integer.   | $$ \\lceil x \\rceil $$                   |\n",
    "| `np.trunc(x)`        | Removes the decimal part of `x`.        | $$ \\text{trunc}(x) $$                   |\n",
    "| `np.mod(x, y)`       | Remainder of `x` divided by `y`.        | $$ x \\mod y $$                          |\n",
    "| `np.remainder(x, y)` | Another way to compute the remainder.   | $$ x - y \\cdot \\lfloor x / y \\rfloor $$ |\n",
    "\n",
    "\n",
    "---\n",
    "\n",
    "### 6. Statistical Functions\n",
    "| Function              | Description                | Formula                                                      |\n",
    "| --------------------- | -------------------------- | ------------------------------------------------------------ |\n",
    "| `np.mean(x)`          | Average of array `x`.      | $$ \\mu = \\frac{1}{n} \\sum_{i=1}^n x_i $$                     |\n",
    "| `np.median(x)`        | Median value of array `x`. | $$ \\text{median}(x) $$                                       |\n",
    "| `np.std(x)`           | Standard deviation of `x`. | $$ \\sigma = \\sqrt{\\frac{1}{n} \\sum_{i=1}^n (x_i - \\mu)^2} $$ |\n",
    "| `np.var(x)`           | Variance of `x`.           | $$ \\sigma^2 = \\frac{1}{n} \\sum_{i=1}^n (x_i - \\mu)^2 $$      |\n",
    "| `np.min(x)`           | Minimum value in `x`.      | $$ \\text{min}(x) $$                                          |\n",
    "| `np.max(x)`           | Maximum value in `x`.      | $$ \\text{max}(x) $$                                          |\n",
    "| `np.percentile(x, q)` | qth percentile of `x`.     | $$ \\text{percentile}(x, q) $$                                |\n",
    "\n",
    "---\n",
    "\n",
    "### 7. Random Number Generation\n",
    "| Function                             | Description                                                                 |\n",
    "| ------------------------------------ | --------------------------------------------------------------------------- |\n",
    "| `np.random.rand(dimension)`          | Generates random numbers in [0, 1) (uniform distribution).                  |\n",
    "| `np.random.randn(dimension)`         | Generates random numbers from a normal (Gaussian) distribution.             |\n",
    "| `np.random.randint(low, high, size)` | Generates random integers between `low` (inclusive) and `high` (exclusive). |\n",
    "| `np.random.choice(array, size)`      | Randomly selects elements from an array.                                    |"
   ]
  }
 ],
 "metadata": {
  "kernelspec": {
   "display_name": "Python 3",
   "language": "python",
   "name": "python3"
  },
  "language_info": {
   "codemirror_mode": {
    "name": "ipython",
    "version": 3
   },
   "file_extension": ".py",
   "mimetype": "text/x-python",
   "name": "python",
   "nbconvert_exporter": "python",
   "pygments_lexer": "ipython3",
   "version": "3.11.10"
  }
 },
 "nbformat": 4,
 "nbformat_minor": 2
}
